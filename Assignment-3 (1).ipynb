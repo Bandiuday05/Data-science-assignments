{
 "cells": [
  {
   "cell_type": "code",
   "execution_count": 1,
   "id": "bcd4c38a-c724-4c09-8122-98ab544dc3be",
   "metadata": {},
   "outputs": [
    {
     "name": "stdin",
     "output_type": "stream",
     "text": [
      "Enter a number:  11\n"
     ]
    },
    {
     "name": "stdout",
     "output_type": "stream",
     "text": [
      "11 is a prime number\n"
     ]
    }
   ],
   "source": [
    "def is_prime(n, i=2):\n",
    "    if n <= 2:\n",
    "        return n == 2\n",
    "    if n % i == 0:\n",
    "        return False\n",
    "    if i * i > n:\n",
    "        return True\n",
    "    return is_prime(n, i + 1)\n",
    "\n",
    " \n",
    "number = int(input(\"Enter a number: \"))\n",
    "if is_prime(number):\n",
    "    print(number, \"is a prime number\")\n",
    "else:\n",
    "    print(number, \"is not a prime number\")\n"
   ]
  },
  {
   "cell_type": "code",
   "execution_count": 2,
   "id": "87d44828-d955-4cde-894f-9464a6872bee",
   "metadata": {},
   "outputs": [
    {
     "name": "stdin",
     "output_type": "stream",
     "text": [
      "What is the product of 7 and 5?  35\n"
     ]
    },
    {
     "name": "stdout",
     "output_type": "stream",
     "text": [
      "Correct!\n"
     ]
    }
   ],
   "source": [
    "\n",
    "import random\n",
    "\n",
    "# Generate two random numbers\n",
    "number1 = random.randint(1, 10)\n",
    "number2 = random.randint(1, 10)\n",
    "\n",
    "# Ask the user to enter the product of the two numbers\n",
    "product = int(input(f\"What is the product of {number1} and {number2}? \"))\n",
    "\n",
    "# Check if the user's answer is correct\n",
    "if product == number1 * number2:\n",
    "  print(\"Correct!\")\n",
    "else:\n",
    "  print(\"Incorrect. The correct answer is\", number1 * number2)"
   ]
  },
  {
   "cell_type": "code",
   "execution_count": 3,
   "id": "2c2bb85b-307b-4532-9995-0f0e34e20ada",
   "metadata": {},
   "outputs": [
    {
     "name": "stdout",
     "output_type": "stream",
     "text": [
      "10000\n",
      "10404\n",
      "10816\n",
      "11236\n",
      "11664\n",
      "12100\n",
      "12544\n",
      "12996\n",
      "13456\n",
      "13924\n",
      "14400\n",
      "14884\n",
      "15376\n",
      "15876\n",
      "16384\n",
      "16900\n",
      "17424\n",
      "17956\n",
      "18496\n",
      "19044\n",
      "19600\n",
      "20164\n",
      "20736\n",
      "21316\n",
      "21904\n",
      "22500\n",
      "23104\n",
      "23716\n",
      "24336\n",
      "24964\n",
      "25600\n",
      "26244\n",
      "26896\n",
      "27556\n",
      "28224\n",
      "28900\n",
      "29584\n",
      "30276\n",
      "30976\n",
      "31684\n",
      "32400\n",
      "33124\n",
      "33856\n",
      "34596\n",
      "35344\n",
      "36100\n",
      "36864\n",
      "37636\n",
      "38416\n",
      "39204\n",
      "40000\n"
     ]
    }
   ],
   "source": [
    "for number in range(100, 201):\n",
    "  # Check if the number is even\n",
    "  if number % 2 == 0:\n",
    "    # Calculate the square of the number\n",
    "    square = number ** 2\n",
    "    # Print the square\n",
    "    print(square)"
   ]
  },
  {
   "cell_type": "code",
   "execution_count": 4,
   "id": "002c8215-6074-4e1b-9f4a-cd989f3a4639",
   "metadata": {},
   "outputs": [
    {
     "name": "stdin",
     "output_type": "stream",
     "text": [
      "Enter the text:  hello world\n"
     ]
    },
    {
     "name": "stdout",
     "output_type": "stream",
     "text": [
      "Number of words: 2\n"
     ]
    }
   ],
   "source": [
    "def count_words(text):\n",
    "    # Split the text into words\n",
    "    words = text.split()\n",
    "    # Return the count of words\n",
    "    return len(words)\n",
    "\n",
    "# main usage \n",
    "text = input(\"Enter the text: \")\n",
    "word_count = count_words(text)\n",
    "print(\"Number of words:\", word_count)"
   ]
  },
  {
   "cell_type": "code",
   "execution_count": 5,
   "id": "b5763577-dd3e-448e-bf05-7fff29845d2d",
   "metadata": {},
   "outputs": [
    {
     "name": "stdout",
     "output_type": "stream",
     "text": [
      "'radar' is a palindrome: True\n",
      "'racecar' is a palindrome: True\n",
      "'level' is a palindrome: True\n",
      "'hello' is a palindrome: False\n",
      "'Atta' is a palindrome: True\n"
     ]
    }
   ],
   "source": [
    "def is_palindrome(string):\n",
    "    # Convert the string to lowercase for case-insensitive comparison\n",
    "    string = string.lower()\n",
    "    # Remove non-alphanumeric characters from the string\n",
    "    string = ''.join(char for char in string if char.isalnum())\n",
    "    # Check if the string is equal to its reverse\n",
    "    return string == string[::-1]\n",
    "\n",
    "# Test the function\n",
    "def main():\n",
    "    test_strings = [\"radar\", \"racecar\",\"level\", \"hello\", \"Atta\"]\n",
    "    for string in test_strings:\n",
    "        print(f\"'{string}' is a palindrome:\", is_palindrome(string))\n",
    "\n",
    "if __name__ == \"__main__\":\n",
    "    main()"
   ]
  },
  {
   "cell_type": "code",
   "execution_count": null,
   "id": "96f2ede7-b1f8-440f-bd63-ce0a06788a07",
   "metadata": {},
   "outputs": [],
   "source": []
  }
 ],
 "metadata": {
  "kernelspec": {
   "display_name": "Python 3 (ipykernel)",
   "language": "python",
   "name": "python3"
  },
  "language_info": {
   "codemirror_mode": {
    "name": "ipython",
    "version": 3
   },
   "file_extension": ".py",
   "mimetype": "text/x-python",
   "name": "python",
   "nbconvert_exporter": "python",
   "pygments_lexer": "ipython3",
   "version": "3.11.7"
  }
 },
 "nbformat": 4,
 "nbformat_minor": 5
}
