{
 "cells": [
  {
   "cell_type": "code",
   "execution_count": 1,
   "id": "dcdfa12c-9683-41d8-9238-7c00f315210e",
   "metadata": {},
   "outputs": [],
   "source": [
    "import pandas as pd\n",
    "from sklearn.metrics.pairwise import cosine_similarity\n",
    "from sklearn.model_selection import train_test_split\n",
    "from sklearn.preprocessing import MultiLabelBinarizer, StandardScaler\n"
   ]
  },
  {
   "cell_type": "code",
   "execution_count": 2,
   "id": "a17c5bd5-8b21-47b9-b74b-be61abbcd2ad",
   "metadata": {},
   "outputs": [
    {
     "data": {
      "text/html": [
       "<div>\n",
       "<style scoped>\n",
       "    .dataframe tbody tr th:only-of-type {\n",
       "        vertical-align: middle;\n",
       "    }\n",
       "\n",
       "    .dataframe tbody tr th {\n",
       "        vertical-align: top;\n",
       "    }\n",
       "\n",
       "    .dataframe thead th {\n",
       "        text-align: right;\n",
       "    }\n",
       "</style>\n",
       "<table border=\"1\" class=\"dataframe\">\n",
       "  <thead>\n",
       "    <tr style=\"text-align: right;\">\n",
       "      <th></th>\n",
       "      <th>anime_id</th>\n",
       "      <th>name</th>\n",
       "      <th>genre</th>\n",
       "      <th>type</th>\n",
       "      <th>episodes</th>\n",
       "      <th>rating</th>\n",
       "      <th>members</th>\n",
       "    </tr>\n",
       "  </thead>\n",
       "  <tbody>\n",
       "    <tr>\n",
       "      <th>0</th>\n",
       "      <td>32281</td>\n",
       "      <td>Kimi no Na wa.</td>\n",
       "      <td>Drama, Romance, School, Supernatural</td>\n",
       "      <td>Movie</td>\n",
       "      <td>1</td>\n",
       "      <td>9.37</td>\n",
       "      <td>200630</td>\n",
       "    </tr>\n",
       "    <tr>\n",
       "      <th>1</th>\n",
       "      <td>5114</td>\n",
       "      <td>Fullmetal Alchemist: Brotherhood</td>\n",
       "      <td>Action, Adventure, Drama, Fantasy, Magic, Mili...</td>\n",
       "      <td>TV</td>\n",
       "      <td>64</td>\n",
       "      <td>9.26</td>\n",
       "      <td>793665</td>\n",
       "    </tr>\n",
       "    <tr>\n",
       "      <th>2</th>\n",
       "      <td>28977</td>\n",
       "      <td>Gintama°</td>\n",
       "      <td>Action, Comedy, Historical, Parody, Samurai, S...</td>\n",
       "      <td>TV</td>\n",
       "      <td>51</td>\n",
       "      <td>9.25</td>\n",
       "      <td>114262</td>\n",
       "    </tr>\n",
       "    <tr>\n",
       "      <th>3</th>\n",
       "      <td>9253</td>\n",
       "      <td>Steins;Gate</td>\n",
       "      <td>Sci-Fi, Thriller</td>\n",
       "      <td>TV</td>\n",
       "      <td>24</td>\n",
       "      <td>9.17</td>\n",
       "      <td>673572</td>\n",
       "    </tr>\n",
       "    <tr>\n",
       "      <th>4</th>\n",
       "      <td>9969</td>\n",
       "      <td>Gintama&amp;#039;</td>\n",
       "      <td>Action, Comedy, Historical, Parody, Samurai, S...</td>\n",
       "      <td>TV</td>\n",
       "      <td>51</td>\n",
       "      <td>9.16</td>\n",
       "      <td>151266</td>\n",
       "    </tr>\n",
       "  </tbody>\n",
       "</table>\n",
       "</div>"
      ],
      "text/plain": [
       "   anime_id                              name  \\\n",
       "0     32281                    Kimi no Na wa.   \n",
       "1      5114  Fullmetal Alchemist: Brotherhood   \n",
       "2     28977                          Gintama°   \n",
       "3      9253                       Steins;Gate   \n",
       "4      9969                     Gintama&#039;   \n",
       "\n",
       "                                               genre   type episodes  rating  \\\n",
       "0               Drama, Romance, School, Supernatural  Movie        1    9.37   \n",
       "1  Action, Adventure, Drama, Fantasy, Magic, Mili...     TV       64    9.26   \n",
       "2  Action, Comedy, Historical, Parody, Samurai, S...     TV       51    9.25   \n",
       "3                                   Sci-Fi, Thriller     TV       24    9.17   \n",
       "4  Action, Comedy, Historical, Parody, Samurai, S...     TV       51    9.16   \n",
       "\n",
       "   members  \n",
       "0   200630  \n",
       "1   793665  \n",
       "2   114262  \n",
       "3   673572  \n",
       "4   151266  "
      ]
     },
     "execution_count": 2,
     "metadata": {},
     "output_type": "execute_result"
    }
   ],
   "source": [
    "#Load the dataset\n",
    "anime = pd.read_csv('D:\\Recommendation System\\\\anime.csv')\n",
    "anime.head()\n"
   ]
  },
  {
   "cell_type": "code",
   "execution_count": 3,
   "id": "be1f4297-5ea5-4fec-83bf-900617c316f8",
   "metadata": {},
   "outputs": [],
   "source": [
    "anime.fillna({'genre': '', 'rating': anime['rating'].mean(), 'episodes': 0}, inplace=True)"
   ]
  },
  {
   "cell_type": "code",
   "execution_count": 4,
   "id": "2f084ead-8994-44dd-85d9-7bcf66f14e8a",
   "metadata": {},
   "outputs": [],
   "source": [
    "# Convert 'genre' to numerical representation using one-hot encoding\n",
    "mlb = MultiLabelBinarizer()\n",
    "anime['genre'] = anime['genre'].apply(lambda x: x.split(', ') if x else [])\n",
    "genre_encoded = mlb.fit_transform(anime['genre'])\n",
    "genre_df = pd.DataFrame(genre_encoded, columns=mlb.classes_)"
   ]
  },
  {
   "cell_type": "code",
   "execution_count": 5,
   "id": "41f0d194-02f8-4143-a11e-83682e9b8850",
   "metadata": {},
   "outputs": [],
   "source": [
    "# Normalize numerical features\n",
    "scaler = StandardScaler()\n",
    "anime['rating'] = scaler.fit_transform(anime[['rating']])"
   ]
  },
  {
   "cell_type": "code",
   "execution_count": 6,
   "id": "ac067e61-8c72-495d-8672-4282bad2466f",
   "metadata": {},
   "outputs": [],
   "source": []
  },
  {
   "cell_type": "code",
   "execution_count": 7,
   "id": "f585823f-22e7-4be5-96fb-b237951a9fb8",
   "metadata": {},
   "outputs": [],
   "source": [
    "#Combine features\n",
    "features = pd.concat([genre_df, anime[['rating']]], axis=1)"
   ]
  },
  {
   "cell_type": "code",
   "execution_count": 9,
   "id": "8a8ed335-138d-44aa-ae7d-2c8e0bbd206b",
   "metadata": {},
   "outputs": [
    {
     "ename": "NameError",
     "evalue": "name 'train' is not defined",
     "output_type": "error",
     "traceback": [
      "\u001b[1;31m---------------------------------------------------------------------------\u001b[0m",
      "\u001b[1;31mNameError\u001b[0m                                 Traceback (most recent call last)",
      "Cell \u001b[1;32mIn[9], line 2\u001b[0m\n\u001b[0;32m      1\u001b[0m \u001b[38;5;66;03m# Compute cosine similarity on training set\u001b[39;00m\n\u001b[1;32m----> 2\u001b[0m train_features \u001b[38;5;241m=\u001b[39m features\u001b[38;5;241m.\u001b[39mloc[train\u001b[38;5;241m.\u001b[39mindex]\n\u001b[0;32m      3\u001b[0m cos_sim \u001b[38;5;241m=\u001b[39m cosine_similarity(train_features)\n\u001b[0;32m      5\u001b[0m \u001b[38;5;66;03m# Recommendation function based on cosine similarity\u001b[39;00m\n",
      "\u001b[1;31mNameError\u001b[0m: name 'train' is not defined"
     ]
    }
   ],
   "source": [
    "# Compute cosine similarity on training set\n",
    "train_features = features.loc[train.index]\n",
    "cos_sim = cosine_similarity(train_features)\n",
    "\n",
    "# Recommendation function based on cosine similarity\n",
    "def recommend_anime(anime_id, df=train, features=train_features, cosine_sim=cos_sim, top_n=10):\n",
    "    idx = df.index[df['anime_id'] == anime_id].tolist()[0]\n",
    "    sim_scores = list(enumerate(cosine_sim[idx]))\n",
    "    sim_scores = sorted(sim_scores, key=lambda x: x[1], reverse=True)\n",
    "    sim_scores = sim_scores[1:top_n+1]\n",
    "    anime_indices = [i[0] for i in sim_scores]\n",
    "    return df.iloc[anime_indices]"
   ]
  },
  {
   "cell_type": "code",
   "execution_count": 10,
   "id": "9a330839-4479-49f4-aaf4-77a3687474c1",
   "metadata": {},
   "outputs": [
    {
     "ename": "NameError",
     "evalue": "name 'cos_sim' is not defined",
     "output_type": "error",
     "traceback": [
      "\u001b[1;31m---------------------------------------------------------------------------\u001b[0m",
      "\u001b[1;31mNameError\u001b[0m                                 Traceback (most recent call last)",
      "Cell \u001b[1;32mIn[10], line 11\u001b[0m\n\u001b[0;32m      1\u001b[0m \u001b[38;5;124;03m\"\"\"# Evaluation\u001b[39;00m\n\u001b[0;32m      2\u001b[0m \u001b[38;5;124;03mtrain, test = train_test_split(anime, test_size=0.2, random_state=42)\u001b[39;00m\n\u001b[0;32m      3\u001b[0m \u001b[38;5;124;03mdef recommend_anime(anime_id, cosine_sim=cos_sim, df=anime, top_n=10):\u001b[39;00m\n\u001b[1;32m   (...)\u001b[0m\n\u001b[0;32m      9\u001b[0m \u001b[38;5;124;03m    return df[['anime_id', 'name']].iloc[anime_indices]\u001b[39;00m\n\u001b[0;32m     10\u001b[0m \u001b[38;5;124;03m\"\"\"\u001b[39;00m\n\u001b[1;32m---> 11\u001b[0m \u001b[38;5;28;01mdef\u001b[39;00m \u001b[38;5;21mrecommend_anime\u001b[39m(anime_id, cosine_sim\u001b[38;5;241m=\u001b[39mcos_sim, df\u001b[38;5;241m=\u001b[39manime, top_n\u001b[38;5;241m=\u001b[39m\u001b[38;5;241m10\u001b[39m):\n\u001b[0;32m     12\u001b[0m     \u001b[38;5;28;01mif\u001b[39;00m anime_id \u001b[38;5;129;01mnot\u001b[39;00m \u001b[38;5;129;01min\u001b[39;00m df[\u001b[38;5;124m'\u001b[39m\u001b[38;5;124manime_id\u001b[39m\u001b[38;5;124m'\u001b[39m]\u001b[38;5;241m.\u001b[39mvalues:\n\u001b[0;32m     13\u001b[0m         \u001b[38;5;28;01mreturn\u001b[39;00m pd\u001b[38;5;241m.\u001b[39mDataFrame()  \u001b[38;5;66;03m# Return empty DataFrame if anime_id not in training set\u001b[39;00m\n",
      "\u001b[1;31mNameError\u001b[0m: name 'cos_sim' is not defined"
     ]
    }
   ],
   "source": [
    "\"\"\"# Evaluation\n",
    "train, test = train_test_split(anime, test_size=0.2, random_state=42)\n",
    "def recommend_anime(anime_id, cosine_sim=cos_sim, df=anime, top_n=10):\n",
    "    idx = df.index[df['anime_id'] == anime_id].tolist()[0]\n",
    "    sim_scores = list(enumerate(cosine_sim[idx]))\n",
    "    sim_scores = sorted(sim_scores, key=lambda x: x[1], reverse=True)\n",
    "    sim_scores = sim_scores[1:top_n+1]\n",
    "    anime_indices = [i[0] for i in sim_scores]\n",
    "    return df[['anime_id', 'name']].iloc[anime_indices]\n",
    "\"\"\"\n",
    "def recommend_anime(anime_id, cosine_sim=cos_sim, df=anime, top_n=10):\n",
    "    if anime_id not in df['anime_id'].values:\n",
    "        return pd.DataFrame()  # Return empty DataFrame if anime_id not in training set\n",
    "    \n",
    "    idx = df.index[df['anime_id'] == anime_id].tolist()[0]\n",
    "    sim_scores = list(enumerate(cosine_sim[idx]))\n",
    "    sim_scores = sorted(sim_scores, key=lambda x: x[1], reverse=True)\n",
    "    sim_scores = sim_scores[1:top_n+1]\n",
    "    anime_indices = [i[0] for i in sim_scores]\n",
    "    return df[['anime_id', 'name']].iloc[anime_indices]"
   ]
  },
  {
   "cell_type": "code",
   "execution_count": 11,
   "id": "b8e0c88c-3da7-4275-85ce-e2b345326149",
   "metadata": {},
   "outputs": [
    {
     "ename": "NameError",
     "evalue": "name 'recommend_anime' is not defined",
     "output_type": "error",
     "traceback": [
      "\u001b[1;31m---------------------------------------------------------------------------\u001b[0m",
      "\u001b[1;31mNameError\u001b[0m                                 Traceback (most recent call last)",
      "Cell \u001b[1;32mIn[11], line 2\u001b[0m\n\u001b[0;32m      1\u001b[0m \u001b[38;5;66;03m# Example Recommendation\u001b[39;00m\n\u001b[1;32m----> 2\u001b[0m recommended_anime \u001b[38;5;241m=\u001b[39m recommend_anime(anime_id\u001b[38;5;241m=\u001b[39m\u001b[38;5;241m9963\u001b[39m, top_n\u001b[38;5;241m=\u001b[39m\u001b[38;5;241m10\u001b[39m)\n\u001b[0;32m      3\u001b[0m \u001b[38;5;28mprint\u001b[39m(recommended_anime)\n",
      "\u001b[1;31mNameError\u001b[0m: name 'recommend_anime' is not defined"
     ]
    }
   ],
   "source": [
    "# Example Recommendation\n",
    "recommended_anime = recommend_anime(anime_id=9963, top_n=10)\n",
    "print(recommended_anime)"
   ]
  },
  {
   "cell_type": "code",
   "execution_count": 2,
   "id": "8521c49e-e967-4b0b-a6c9-7114cdbbaf9a",
   "metadata": {},
   "outputs": [
    {
     "ename": "NameError",
     "evalue": "name 'train_test_split' is not defined",
     "output_type": "error",
     "traceback": [
      "\u001b[1;31m---------------------------------------------------------------------------\u001b[0m",
      "\u001b[1;31mNameError\u001b[0m                                 Traceback (most recent call last)",
      "Cell \u001b[1;32mIn[2], line 2\u001b[0m\n\u001b[0;32m      1\u001b[0m \u001b[38;5;66;03m#Split dataset into training and testing sets\u001b[39;00m\n\u001b[1;32m----> 2\u001b[0m train, test \u001b[38;5;241m=\u001b[39m train_test_split(anime, test_size\u001b[38;5;241m=\u001b[39m\u001b[38;5;241m0.2\u001b[39m, random_state\u001b[38;5;241m=\u001b[39m\u001b[38;5;241m42\u001b[39m)\n\u001b[0;32m      4\u001b[0m \u001b[38;5;66;03m# Initialize lists to store ground truth and predictions\u001b[39;00m\n\u001b[0;32m      5\u001b[0m ground_truth \u001b[38;5;241m=\u001b[39m []\n",
      "\u001b[1;31mNameError\u001b[0m: name 'train_test_split' is not defined"
     ]
    }
   ],
   "source": [
    "#Split dataset into training and testing sets\n",
    "train, test = train_test_split(anime, test_size=0.2, random_state=42)\n",
    "\n",
    "# Initialize lists to store ground truth and predictions\n",
    "ground_truth = []\n",
    "predictions = []\n",
    "\n",
    "# Mean rating to determine relevance\n",
    "mean_rating = train['rating'].mean()\n",
    "\n",
    "for _, row in test.iterrows():\n",
    "    anime_id = row['anime_id']\n",
    "    \n",
    "    # Skip anime not present in the training set\n",
    "    if anime_id not in train['anime_id'].values:\n",
    "        continue\n",
    "    \n",
    "    recommended_anime = recommend_anime(anime_id, top_n=10)\n",
    "    \n",
    "    if recommended_anime.empty:\n",
    "        continue\n",
    "    \n",
    "    actual_ratings = test[test['anime_id'].isin(recommended_anime['anime_id'])]['rating']\n",
    "    true_relevant = (actual_ratings > mean_rating).astype(int).tolist()\n",
    "    \n",
    "    ground_truth.extend(true_relevant)\n",
    "    predictions.extend([1] * len(true_relevant))\n",
    "\n",
    "# Include non-relevant predictions to avoid all 1s in predictions\n",
    "if not predictions:\n",
    "    predictions = [0]\n",
    "\n",
    "# Include non-relevant items in ground truth to avoid all 1s\n",
    "if not ground_truth:\n",
    "    ground_truth = [0]\n",
    "\n",
    "# Compute precision, recall, and F1-score\n",
    "\n",
    "from sklearn.metrics import precision_score, recall_score, f1_score\n",
    "precision = precision_score(ground_truth, predictions, average='macro', zero_division=0)\n",
    "recall = recall_score(ground_truth, predictions, average='macro', zero_division=0)\n",
    "f1 = f1_score(ground_truth, predictions, average='macro', zero_division=0)\n",
    "\n",
    "print(f'Precision: {precision:.2f}')\n",
    "print(f'Recall: {recall:.2f}')\n",
    "print(f'F1-Score: {f1:.2f}')"
   ]
  },
  {
   "cell_type": "code",
   "execution_count": null,
   "id": "fe07b733-1ad3-4009-9cf5-e25fa7698b3b",
   "metadata": {},
   "outputs": [],
   "source": [
    "interview questions:\n",
    "\n",
    "1) User-based CF focuses on similarities between users, while item-based CF focuses on similarities between items based on user interactions\n",
    "\n",
    "2) Collaborative filtering (CF) is a technique used by recommender systems to predict preferences or interests of users by collecting and analyzing information from many users.\n",
    "   it works on data collection,similarity collection, recommendation system.\n"
   ]
  }
 ],
 "metadata": {
  "kernelspec": {
   "display_name": "Python 3 (ipykernel)",
   "language": "python",
   "name": "python3"
  },
  "language_info": {
   "codemirror_mode": {
    "name": "ipython",
    "version": 3
   },
   "file_extension": ".py",
   "mimetype": "text/x-python",
   "name": "python",
   "nbconvert_exporter": "python",
   "pygments_lexer": "ipython3",
   "version": "3.11.7"
  }
 },
 "nbformat": 4,
 "nbformat_minor": 5
}
